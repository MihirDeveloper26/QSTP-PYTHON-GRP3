
#IMPORTING REQUIRED MODULE
from pygame import *
import sys
from os.path import abspath, dirname
from random import choice

#COLORS IN RGB YOU CAN MAKE COMBINATIONS LATER
WHITE = (255, 255, 255)
GREEN = (78, 255, 87)
YELLOW = (241, 255, 0)
BLUE = (80, 255, 239)
PURPLE = (203, 0, 255)
RED = (237, 28, 36)
#its_working_for_me.ok checked kushal 

SCREEN = pygame.display.set_mode((1024,720)) #Initialzing a screen for display
pygame.display.set_caption('Space Invaders')

clock = pygame.time.Clock() #setting frame rate

base_path = abspath(dirname(__file__))
font_path = base_path + '/fonts/'
image_path = base_path + '/images/'
sound_path = base_path + '/sounds/'

#Initializing pygame modules
pygame.init()

run = True #Initializing Variable

while run:
    #clock = pygame.time.Clock()
    #clock.tick(60)
    
    for event in pygame.event.get():
        if event.type == pygame.QUIT:#user quits game
            run = False
            
pygame.quit() #Uninitialize all pygame modules

