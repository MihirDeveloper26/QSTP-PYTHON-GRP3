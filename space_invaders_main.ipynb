from pygame import *
import sys
from os.path import abspath, dirname
from random import choice

#COLORS IN RGB YOU CAN MAKE COMBINATIONS LATER
WHITE = (255, 255, 255)
GREEN = (78, 255, 87)
YELLOW = (241, 255, 0)
BLUE = (80, 255, 239)
PURPLE = (203, 0, 255)
RED = (237, 28, 36)
#its_working_for_me

SCREEN = display.set_mode((800, 600))

base_path = abspath(dirname(__file__))
font_path = base_path + '/fonts/'
image_path = base_path + '/images/'
sound_path = base_path + '/sounds/'

