
#IMPORTING REQUIRED MODULE
import pygame
from pygame import *
import sys
from os.path import abspath, dirname
from random import choice

#COLORS IN RGB YOU CAN MAKE COMBINATIONS LATER
WHITE = (255, 255, 255)
GREEN = (78, 255, 87)
YELLOW = (241, 255, 0)
BLUE = (80, 255, 239)
PURPLE = (203, 0, 255)
RED = (237, 28, 36)


SCREEN = pygame.display.set_mode((1024,720)) #Initialzing a screen for display
pygame.display.set_caption('Space Invaders') 

clock = pygame.time.Clock() #setting frame rate

base_path = abspath(dirname(__file__))
font_path = base_path + '/fonts/'
image_path = base_path + '/images/'
sound_path = base_path + '/sounds/'

#Initialize all Graphic requirements Here only
#i.e

#Initializing pygame modules
pygame.init()

#Initialize required Variables here
draw_state = 0
score = 0


try:
    #Reads file from local directory and extracts high score
    #       variable called highest_score
    highest_score_file = open("highscore.txt", "r")
    highest_score = int(highest_score_file.read())
    highest_score_file.close()
except:
    #if files missing
    highScore = 0


def gameUi():
	'''
	Add lines of code here
	this will be the game screen
	'''
	pass


def gameLogic():
	'''
	Add lines of code here
	this function handles the game play
	'''
	pass
	

def welcomeScreen():
	'''
	Add lines of code here
	this will be the welcome screen
	'''
	pass



#welcomeScreen()

run = True #Initializing Variable

while run:
    #clock = pygame.time.Clock()
    #clock.tick(60)
    
    for event in pygame.event.get():
        if event.type == pygame.QUIT:#user quits game
            run = False

    if draw_state == 0:
    	#welcomeScreen() #If newgame starts
    if draw_state > 0:#If game has already begun
        #gameUi()#Load Game UI

    pygame.display.update() #Update portions of the screen for software displays
            
pygame.quit() #Uninitialize all pygame modules

