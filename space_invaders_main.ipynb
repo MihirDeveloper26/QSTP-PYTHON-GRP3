{
 "cells": [
  {
   "cell_type": "code",
   "execution_count": 1,
   "metadata": {},
   "outputs": [
    {
     "name": "stdout",
     "output_type": "stream",
     "text": [
      "pygame 1.9.6\n",
      "Hello from the pygame community. https://www.pygame.org/contribute.html\n"
     ]
    }
   ],
   "source": [
    "#IMPORTING PYGAME MODULE\n",
    "import pygame\n",
    "\n",
    "#Initializing pygame modules\n",
    "pygame.init()\n",
    "\n",
    "screen = pygame.display.set_mode((1024,720)) #Initialzing a screen for display\n",
    "\n",
    "pygame.display.set_caption('Space Invaders')\n",
    "\n",
    "#clock = pygame.time.Clock() #setting frame rate\n",
    "\n",
    "run = True #Initializing Variable\n",
    "\n",
    "while run:\n",
    "    #clock = pygame.time.Clock()\n",
    "    #clock.tick(60)\n",
    "    \n",
    "    for event in pygame.event.get():\n",
    "        if event.type == pygame.QUIT:#user quits game\n",
    "            run = False\n",
    "pygame.quit() #Uninitialize all pygame modules\n",
    "\n"
   ]
  },
  {
   "cell_type": "code",
   "execution_count": null,
   "metadata": {},
   "outputs": [],
   "source": []
  }
 ],
 "metadata": {
  "kernelspec": {
   "display_name": "Python 3",
   "language": "python",
   "name": "python3"
  },
  "language_info": {
   "codemirror_mode": {
    "name": "ipython",
    "version": 3
   },
   "file_extension": ".py",
   "mimetype": "text/x-python",
   "name": "python",
   "nbconvert_exporter": "python",
   "pygments_lexer": "ipython3",
   "version": "3.7.3"
  }
 },
 "nbformat": 4,
 "nbformat_minor": 2
}
